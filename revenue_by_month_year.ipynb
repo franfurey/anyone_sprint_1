{
 "cells": [
  {
   "cell_type": "code",
   "execution_count": 1,
   "metadata": {},
   "outputs": [
    {
     "name": "stdout",
     "output_type": "stream",
     "text": [
      "All dataframes have been loaded into the database.\n"
     ]
    }
   ],
   "source": [
    "# Importing the necessary libraries\n",
    "from pandas import DataFrame\n",
    "from sqlalchemy import create_engine\n",
    "from typing import Dict\n",
    "from pathlib import Path\n",
    "import pandas as pd\n",
    "\n",
    "from sqlalchemy.engine.base import Engine\n",
    "from src.transform import QueryEnum\n",
    "from src import config\n",
    "from src.transform import run_queries\n",
    "from src.extract import extract\n",
    "from src.load import load\n",
    "from src.plots import (\n",
    "    plot_freight_value_weight_relationship,\n",
    "    plot_global_amount_order_status,\n",
    "    plot_real_vs_predicted_delivered_time,\n",
    "    plot_revenue_by_month_year,\n",
    "    plot_revenue_per_state,\n",
    "    plot_top_10_least_revenue_categories,\n",
    "    plot_top_10_revenue_categories,\n",
    "    plot_top_10_revenue_categories_ammount,\n",
    "    plot_delivery_date_difference,\n",
    "    plot_order_amount_per_day_with_holidays,\n",
    ")\n",
    "\n",
    "# Create the database sql file\n",
    "Path(config.SQLITE_BD_ABSOLUTE_PATH).touch()\n",
    "\n",
    "# Create the database connection\n",
    "ENGINE = create_engine(rf\"sqlite:///{config.SQLITE_BD_ABSOLUTE_PATH}\", echo=False)\n",
    "\n",
    "csv_folder = config.DATASET_ROOT_PATH\n",
    "public_holidays_url = config.PUBLIC_HOLIDAYS_URL\n",
    "\n",
    "# 1. Get the mapping of the csv files to the table names.\n",
    "csv_table_mapping = config.get_csv_to_table_mapping()\n",
    "\n",
    "# 2. Extract the data from the csv files, holidays and load them into the dataframes.\n",
    "csv_dataframes = extract(csv_folder, csv_table_mapping, public_holidays_url)\n",
    "\n",
    "load(data_frames=csv_dataframes, database=ENGINE)\n",
    "\n",
    "query_results: Dict[str, DataFrame] = run_queries(database=ENGINE)"
   ]
  },
  {
   "cell_type": "code",
   "execution_count": 2,
   "metadata": {},
   "outputs": [],
   "source": [
    "# Crear la conexión a la base de datos\n",
    "engine = create_engine(rf\"sqlite:///{config.SQLITE_BD_ABSOLUTE_PATH}\", echo=False)\n",
    "\n",
    "# Cargar los datos desde la base de datos SQLite en DataFrames de pandas\n",
    "customers_df = pd.read_sql_table('olist_customers', con=engine)\n",
    "geolocation_df = pd.read_sql_table('olist_geolocation', con=engine)\n",
    "order_items_df = pd.read_sql_table('olist_order_items', con=engine)\n",
    "order_payments_df = pd.read_sql_table('olist_order_payments', con=engine)\n",
    "order_reviews_df = pd.read_sql_table('olist_order_reviews', con=engine)\n",
    "orders_df = pd.read_sql_table('olist_orders', con=engine)\n",
    "products_df = pd.read_sql_table('olist_products', con=engine)\n",
    "sellers_df = pd.read_sql_table('olist_sellers', con=engine)\n",
    "product_category_name_translation_df = pd.read_sql_table('product_category_name_translation', con=engine)\n",
    "public_holidays_df = pd.read_sql_table('public_holidays', con=engine)"
   ]
  },
  {
   "cell_type": "code",
   "execution_count": 10,
   "metadata": {},
   "outputs": [
    {
     "name": "stdout",
     "output_type": "stream",
     "text": [
      "Las primeras 10 filas de cada DataFrame se han guardado en top_10_rows_combined.txt\n"
     ]
    }
   ],
   "source": [
    "import pandas as pd\n",
    "from sqlalchemy import create_engine\n",
    "\n",
    "# Crear la conexión a la base de datos\n",
    "engine = create_engine(f\"sqlite:///{config.SQLITE_BD_ABSOLUTE_PATH}\", echo=False)\n",
    "\n",
    "# Cargar los datos desde la base de datos SQLite en DataFrames de pandas\n",
    "dataframes = {\n",
    "    'customers': pd.read_sql_table('olist_customers', con=engine),\n",
    "    'geolocation': pd.read_sql_table('olist_geolocation', con=engine),\n",
    "    'order_items': pd.read_sql_table('olist_order_items', con=engine),\n",
    "    'order_payments': pd.read_sql_table('olist_order_payments', con=engine),\n",
    "    'order_reviews': pd.read_sql_table('olist_order_reviews', con=engine),\n",
    "    'orders': pd.read_sql_table('olist_orders', con=engine),\n",
    "    'products': pd.read_sql_table('olist_products', con=engine),\n",
    "    'sellers': pd.read_sql_table('olist_sellers', con=engine),\n",
    "    'product_category_name_translation': pd.read_sql_table('product_category_name_translation', con=engine),\n",
    "    'public_holidays': pd.read_sql_table('public_holidays', con=engine)\n",
    "}\n",
    "\n",
    "# Ruta del archivo TXT donde se guardarán los datos\n",
    "output_file_path = 'top_10_rows_combined.txt'\n",
    "\n",
    "# Guardar las primeras 10 filas de cada DataFrame en un único archivo TXT\n",
    "with open(output_file_path, mode='w', encoding='utf-8') as file:\n",
    "    for df_name, df in dataframes.items():\n",
    "        file.write(f\"{df_name}\\n\")\n",
    "        file.write(df.head(10).to_string(index=False))\n",
    "        file.write(\"\\n\\n\")\n",
    "\n",
    "print(f\"Las primeras 10 filas de cada DataFrame se han guardado en {output_file_path}\")"
   ]
  }
 ],
 "metadata": {
  "kernelspec": {
   "display_name": "anyone",
   "language": "python",
   "name": "anyone"
  },
  "language_info": {
   "codemirror_mode": {
    "name": "ipython",
    "version": 3
   },
   "file_extension": ".py",
   "mimetype": "text/x-python",
   "name": "python",
   "nbconvert_exporter": "python",
   "pygments_lexer": "ipython3",
   "version": "3.9.5"
  }
 },
 "nbformat": 4,
 "nbformat_minor": 2
}
